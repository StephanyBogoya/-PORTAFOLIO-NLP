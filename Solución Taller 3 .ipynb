{
 "cells": [
  {
   "cell_type": "markdown",
   "metadata": {},
   "source": [
    "<img src='https://encrypted-tbn0.gstatic.com/images?q=tbn%3AANd9GcQ-VfNtOyJbsaxu43Kztf_cv1mgBG6ZIQZEVw&usqp=CAU'>\n",
    "\n",
    "# Procesamiento de Lenguaje Natural\n",
    "\n",
    "## Taller #3: Web Scraping\n"
   ]
  },
  {
   "cell_type": "markdown",
   "metadata": {},
   "source": [
    "# Punto 1:\n",
    "\n",
    "- `[15 pts]` Hacer Web Scraping de 10 animales en Wikipedia (en búcle)\n",
    "- `[10 pts]` Obtener el **encabezado** de cada animal\n",
    "- `[15 pts]` Obtener todos los **textos** que están en las etiquetas de negrilla del primer párrafo."
   ]
  },
  {
   "cell_type": "code",
   "execution_count": 27,
   "metadata": {},
   "outputs": [],
   "source": [
    "import bs4 as bs \n",
    "import urllib.request\n",
    "import re"
   ]
  },
  {
   "cell_type": "code",
   "execution_count": 37,
   "metadata": {},
   "outputs": [],
   "source": [
    "Animales= [\"https://es.wikipedia.org/wiki/Canis_familiaris\", \"https://es.wikipedia.org/wiki/Simiiformes\",\n",
    "          \"https://es.wikipedia.org/wiki/Panthera_tigris\",  \"https://es.wikipedia.org/wiki/Pantera_negra\",\"https://es.wikipedia.org/wiki/B%C3%BAho\",\n",
    "          \"https://es.wikipedia.org/wiki/Delphinidae\",\"https://es.wikipedia.org/wiki/Bos_primigenius_taurus\",\"https://es.wikipedia.org/wiki/Chiroptera\",\n",
    "           \"https://es.wikipedia.org/wiki/Gallus_gallus_domesticus\",\"https://es.wikipedia.org/wiki/Iguana_(g%C3%A9nero)\"]\n"
   ]
  },
  {
   "cell_type": "code",
   "execution_count": 38,
   "metadata": {},
   "outputs": [
    {
     "name": "stdout",
     "output_type": "stream",
     "text": [
      "Encabezado: Canis familiaris\n",
      "Encabezado: Simiiformes\n",
      "Encabezado: Panthera tigris\n",
      "Encabezado: Pantera negra\n",
      "Encabezado: Búho\n",
      "Encabezado: Delphinidae\n",
      "Encabezado: Bos primigenius taurus\n",
      "Encabezado: Chiroptera\n",
      "Encabezado: Gallus gallus domesticus\n",
      "Encabezado: Iguana (género)\n"
     ]
    }
   ],
   "source": [
    "#Obtener el encabezado de cada página\n",
    "for i in Animales:\n",
    "    request = urllib.request.Request(i, headers={'User-Agent': 'Mozilla/5.0'})\n",
    "    webpage = urllib.request.urlopen(request)\n",
    "    source = webpage.read()\n",
    "    webpage.close()\n",
    "    i= bs.BeautifulSoup(source, 'html.parser')\n",
    "    nombre_animal= i.find(\"h1\").text\n",
    "    print (f'Encabezado: {nombre_animal}')"
   ]
  },
  {
   "cell_type": "code",
   "execution_count": 39,
   "metadata": {},
   "outputs": [
    {
     "name": "stdout",
     "output_type": "stream",
     "text": [
      "perro\n",
      "Canis familiaris\n",
      "Canis lupus familiaris\n",
      "perro doméstico\n",
      "can\n",
      "chucho\n",
      "tuso\n",
      "choco\n",
      "simios\n",
      "simiformes\n",
      "Simiiformes\n",
      "antropoides\n",
      "tigre\n",
      "Panthera tigris\n",
      "pantera negra\n",
      "Búho\n",
      "Strigidae\n",
      "delfines\n",
      "Delphinidae\n",
      "delfines oceánicos\n",
      "vaca\n",
      "toro\n",
      "Bos primigenius taurus\n",
      "quirópteros\n",
      "Chiroptera\n",
      "murciélagos\n",
      "gallo\n",
      "gallina\n",
      "Gallus gallus domesticus\n",
      "gallo\n",
      "gallina\n",
      "pollo\n",
      "Iguana\n"
     ]
    }
   ],
   "source": [
    "#Obtener todos los textos que están en las etiquetas de negrilla del primer párrafo\n",
    "for i in Animales:\n",
    "    request = urllib.request.Request(i, headers={'User-Agent': 'Mozilla/5.0'})\n",
    "    webpage = urllib.request.urlopen(request)\n",
    "    source = webpage.read()\n",
    "    webpage.close()\n",
    "    i= bs.BeautifulSoup(source, 'html.parser')\n",
    "    criptos = i.find(\"p\").find_all(\"b\")\n",
    "    for m in criptos:\n",
    "        print(m.get_text())\n"
   ]
  },
  {
   "cell_type": "markdown",
   "metadata": {},
   "source": [
    "# **Punto 2:**\n",
    "[10 pts] Usando regex, reemplazar todas las caracteres especiales del punto anterior (palabras en negrilla) por un asterisco (¡Ojo, los espacios se quedan!)\n"
   ]
  },
  {
   "cell_type": "code",
   "execution_count": 40,
   "metadata": {},
   "outputs": [
    {
     "name": "stdout",
     "output_type": "stream",
     "text": [
      "perro\n",
      "Canis familiaris\n",
      "Canis lupus familiaris\n",
      "perro dom*stico\n",
      "can\n",
      "chucho\n",
      "tuso\n",
      "choco\n",
      "simios\n",
      "simiformes\n",
      "Simiiformes\n",
      "antropoides\n",
      "tigre\n",
      "Panthera tigris\n",
      "pantera negra\n",
      "B*ho\n",
      "Strigidae\n",
      "delfines\n",
      "Delphinidae\n",
      "delfines oce*nicos\n",
      "vaca\n",
      "toro\n",
      "Bos primigenius taurus\n",
      "quir*pteros\n",
      "Chiroptera\n",
      "murci*lagos\n",
      "gallo\n",
      "gallina\n",
      "Gallus gallus domesticus\n",
      "gallo\n",
      "gallina\n",
      "pollo\n",
      "Iguana\n"
     ]
    }
   ],
   "source": [
    "for i in Animales:\n",
    "    request = urllib.request.Request(i, headers={'User-Agent': 'Mozilla/5.0'})\n",
    "    webpage = urllib.request.urlopen(request)\n",
    "    source = webpage.read()\n",
    "    webpage.close()\n",
    "    i= bs.BeautifulSoup(source, 'html.parser')\n",
    "    criptos = i.find(\"p\").find_all(\"b\")\n",
    "    for a in criptos:\n",
    "        print(re.sub(r\"[^a-zA-Z\\s]\", \"*\", a.get_text()))"
   ]
  }
 ],
 "metadata": {
  "kernelspec": {
   "display_name": "Python 3",
   "language": "python",
   "name": "python3"
  },
  "language_info": {
   "codemirror_mode": {
    "name": "ipython",
    "version": 3
   },
   "file_extension": ".py",
   "mimetype": "text/x-python",
   "name": "python",
   "nbconvert_exporter": "python",
   "pygments_lexer": "ipython3",
   "version": "3.8.5"
  }
 },
 "nbformat": 4,
 "nbformat_minor": 4
}
