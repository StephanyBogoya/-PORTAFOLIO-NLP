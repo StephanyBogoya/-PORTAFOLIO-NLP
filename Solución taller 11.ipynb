{
 "cells": [
  {
   "cell_type": "markdown",
   "metadata": {},
   "source": [
    "<img src='https://encrypted-tbn0.gstatic.com/images?q=tbn%3AANd9GcQ-VfNtOyJbsaxu43Kztf_cv1mgBG6ZIQZEVw&usqp=CAU'>\n",
    "\n",
    "# Procesamiento de Lenguage Natural\n",
    "\n",
    "## Taller #11: Twitter\n",
    "`Fecha de entrega: Mayo 20, 2021 (Antes del inicio de la próxima clase).`\n",
    "\n",
    "`Modo de entrega: Subir link de GitHub al aula virtual.`"
   ]
  },
  {
   "cell_type": "markdown",
   "metadata": {},
   "source": [
    "###  `[25 pts]` Punto 1: Extraer Tuits\n",
    "Extraer mínimo 100 tuits de Twitter usando la API\n",
    "\n",
    "❌ No escoger un tema de los que hicimos en clase (día de las madres, Giro de Italia, #EraGoldeYepes)"
   ]
  },
  {
   "cell_type": "code",
   "execution_count": 1,
   "metadata": {},
   "outputs": [],
   "source": [
    "import pandas as pd\n",
    "import tweepy"
   ]
  },
  {
   "cell_type": "code",
   "execution_count": 2,
   "metadata": {},
   "outputs": [
    {
     "data": {
      "text/plain": [
       "dict_keys(['api_key', 'api_secret_key', 'access_token', 'access_token_secret', 'bearer_token'])"
      ]
     },
     "execution_count": 2,
     "metadata": {},
     "output_type": "execute_result"
    }
   ],
   "source": [
    "# Leer las llaves\n",
    "keys = pd.read_csv(\"twitter.csv\", header=None)\n",
    "keys = dict(zip(keys[0],keys[1]))\n",
    "keys.keys()"
   ]
  },
  {
   "cell_type": "code",
   "execution_count": 3,
   "metadata": {},
   "outputs": [],
   "source": [
    "# Autenticar a través de la API \n",
    "auth = tweepy.OAuthHandler(keys['api_key'], keys['api_secret_key'])\n",
    "auth.set_access_token(keys['access_token'], keys['access_token_secret'])\n",
    "api = tweepy.API(auth, wait_on_rate_limit=True)"
   ]
  },
  {
   "cell_type": "code",
   "execution_count": 4,
   "metadata": {},
   "outputs": [],
   "source": [
    "# Paso 4\n",
    "tweets = tweepy.Cursor(api.search,\n",
    "                       q=['S.O.S colombia -RT'],\n",
    "                       lang='es',\n",
    "                       geocode='4.7110,-74.0721,100km',\n",
    "                       tweet_mode='extended',\n",
    "                       include_rts=False,\n",
    "                       ).items(100)"
   ]
  },
  {
   "cell_type": "code",
   "execution_count": 5,
   "metadata": {},
   "outputs": [],
   "source": [
    "# Objeto generador\n",
    "t = [tweet for tweet in tweets]"
   ]
  },
  {
   "cell_type": "code",
   "execution_count": 6,
   "metadata": {},
   "outputs": [
    {
     "data": {
      "text/html": [
       "<div>\n",
       "<style scoped>\n",
       "    .dataframe tbody tr th:only-of-type {\n",
       "        vertical-align: middle;\n",
       "    }\n",
       "\n",
       "    .dataframe tbody tr th {\n",
       "        vertical-align: top;\n",
       "    }\n",
       "\n",
       "    .dataframe thead th {\n",
       "        text-align: right;\n",
       "    }\n",
       "</style>\n",
       "<table border=\"1\" class=\"dataframe\">\n",
       "  <thead>\n",
       "    <tr style=\"text-align: right;\">\n",
       "      <th></th>\n",
       "      <th>tweets</th>\n",
       "      <th>date</th>\n",
       "      <th>city</th>\n",
       "      <th>user_location</th>\n",
       "      <th>id</th>\n",
       "      <th>link</th>\n",
       "    </tr>\n",
       "  </thead>\n",
       "  <tbody>\n",
       "    <tr>\n",
       "      <th>0</th>\n",
       "      <td>@CNNEE Auxilio se enloqueció la policia en var...</td>\n",
       "      <td>2021-05-20 04:22:25</td>\n",
       "      <td>Bogotá</td>\n",
       "      <td>Bogotá, D.C., Colombia</td>\n",
       "      <td>1395233425037176834</td>\n",
       "      <td>https://twitter.com/i/web/stuatus/139523342503...</td>\n",
       "    </tr>\n",
       "    <tr>\n",
       "      <th>1</th>\n",
       "      <td>😡😡😡 @DirectorPolicia Sigan guardando silencio,...</td>\n",
       "      <td>2021-05-20 03:26:17</td>\n",
       "      <td>Bogotá</td>\n",
       "      <td>BOGOTA, COLOMBIA</td>\n",
       "      <td>1395219300517126147</td>\n",
       "      <td>https://twitter.com/i/web/stuatus/139521930051...</td>\n",
       "    </tr>\n",
       "    <tr>\n",
       "      <th>2</th>\n",
       "      <td>S&amp;amp;P bajó la calificación de la deuda sober...</td>\n",
       "      <td>2021-05-20 02:51:37</td>\n",
       "      <td>Bogotá</td>\n",
       "      <td>Bogotá</td>\n",
       "      <td>1395210575324532742</td>\n",
       "      <td>https://twitter.com/i/web/stuatus/139521057532...</td>\n",
       "    </tr>\n",
       "    <tr>\n",
       "      <th>3</th>\n",
       "      <td>S.O.S Colombia: golpe de Estado https://t.co/b...</td>\n",
       "      <td>2021-05-20 02:25:57</td>\n",
       "      <td>Bogotá</td>\n",
       "      <td>Pereira, Colombia</td>\n",
       "      <td>1395204115022684164</td>\n",
       "      <td>https://twitter.com/i/web/stuatus/139520411502...</td>\n",
       "    </tr>\n",
       "    <tr>\n",
       "      <th>4</th>\n",
       "      <td>¿Ya salió Vicky Dávila a decir que Standard an...</td>\n",
       "      <td>2021-05-20 02:00:15</td>\n",
       "      <td>Bogotá</td>\n",
       "      <td>Bogotá, D.C., Colombia</td>\n",
       "      <td>1395197646978093059</td>\n",
       "      <td>https://twitter.com/i/web/stuatus/139519764697...</td>\n",
       "    </tr>\n",
       "  </tbody>\n",
       "</table>\n",
       "</div>"
      ],
      "text/plain": [
       "                                              tweets                date  \\\n",
       "0  @CNNEE Auxilio se enloqueció la policia en var... 2021-05-20 04:22:25   \n",
       "1  😡😡😡 @DirectorPolicia Sigan guardando silencio,... 2021-05-20 03:26:17   \n",
       "2  S&amp;P bajó la calificación de la deuda sober... 2021-05-20 02:51:37   \n",
       "3  S.O.S Colombia: golpe de Estado https://t.co/b... 2021-05-20 02:25:57   \n",
       "4  ¿Ya salió Vicky Dávila a decir que Standard an... 2021-05-20 02:00:15   \n",
       "\n",
       "     city           user_location                   id  \\\n",
       "0  Bogotá  Bogotá, D.C., Colombia  1395233425037176834   \n",
       "1  Bogotá        BOGOTA, COLOMBIA  1395219300517126147   \n",
       "2  Bogotá                 Bogotá   1395210575324532742   \n",
       "3  Bogotá       Pereira, Colombia  1395204115022684164   \n",
       "4  Bogotá  Bogotá, D.C., Colombia  1395197646978093059   \n",
       "\n",
       "                                                link  \n",
       "0  https://twitter.com/i/web/stuatus/139523342503...  \n",
       "1  https://twitter.com/i/web/stuatus/139521930051...  \n",
       "2  https://twitter.com/i/web/stuatus/139521057532...  \n",
       "3  https://twitter.com/i/web/stuatus/139520411502...  \n",
       "4  https://twitter.com/i/web/stuatus/139519764697...  "
      ]
     },
     "execution_count": 6,
     "metadata": {},
     "output_type": "execute_result"
    }
   ],
   "source": [
    "t_processed = []\n",
    "\n",
    "for tweet in t: \n",
    "    temp = []\n",
    "    temp.append(tweet.full_text)\n",
    "    temp.append(tweet.created_at)\n",
    "    temp.append('Bogotá')\n",
    "    temp.append(tweet.user.location)\n",
    "    temp.append(tweet.id)\n",
    "    temp.append(f\"https://twitter.com/i/web/stuatus/{tweet.id}\")\n",
    "    \n",
    "    t_processed.append(temp)\n",
    "    \n",
    "    \n",
    "data = pd.DataFrame(t_processed)\n",
    "data.columns = ['tweets', 'date', 'city', 'user_location', 'id', 'link']\n",
    "data.head()\n"
   ]
  },
  {
   "cell_type": "code",
   "execution_count": 8,
   "metadata": {},
   "outputs": [
    {
     "data": {
      "text/html": [
       "<div>\n",
       "<style scoped>\n",
       "    .dataframe tbody tr th:only-of-type {\n",
       "        vertical-align: middle;\n",
       "    }\n",
       "\n",
       "    .dataframe tbody tr th {\n",
       "        vertical-align: top;\n",
       "    }\n",
       "\n",
       "    .dataframe thead th {\n",
       "        text-align: right;\n",
       "    }\n",
       "</style>\n",
       "<table border=\"1\" class=\"dataframe\">\n",
       "  <thead>\n",
       "    <tr style=\"text-align: right;\">\n",
       "      <th></th>\n",
       "      <th>tweets</th>\n",
       "      <th>date</th>\n",
       "    </tr>\n",
       "  </thead>\n",
       "  <tbody>\n",
       "    <tr>\n",
       "      <th>0</th>\n",
       "      <td>@CNNEE Auxilio se enloqueció la policia en var...</td>\n",
       "      <td>2021-05-20 04:22:25</td>\n",
       "    </tr>\n",
       "    <tr>\n",
       "      <th>1</th>\n",
       "      <td>😡😡😡 @DirectorPolicia Sigan guardando silencio,...</td>\n",
       "      <td>2021-05-20 03:26:17</td>\n",
       "    </tr>\n",
       "    <tr>\n",
       "      <th>2</th>\n",
       "      <td>S&amp;amp;P bajó la calificación de la deuda sober...</td>\n",
       "      <td>2021-05-20 02:51:37</td>\n",
       "    </tr>\n",
       "    <tr>\n",
       "      <th>3</th>\n",
       "      <td>S.O.S Colombia: golpe de Estado https://t.co/b...</td>\n",
       "      <td>2021-05-20 02:25:57</td>\n",
       "    </tr>\n",
       "    <tr>\n",
       "      <th>4</th>\n",
       "      <td>¿Ya salió Vicky Dávila a decir que Standard an...</td>\n",
       "      <td>2021-05-20 02:00:15</td>\n",
       "    </tr>\n",
       "  </tbody>\n",
       "</table>\n",
       "</div>"
      ],
      "text/plain": [
       "                                              tweets                date\n",
       "0  @CNNEE Auxilio se enloqueció la policia en var... 2021-05-20 04:22:25\n",
       "1  😡😡😡 @DirectorPolicia Sigan guardando silencio,... 2021-05-20 03:26:17\n",
       "2  S&amp;P bajó la calificación de la deuda sober... 2021-05-20 02:51:37\n",
       "3  S.O.S Colombia: golpe de Estado https://t.co/b... 2021-05-20 02:25:57\n",
       "4  ¿Ya salió Vicky Dávila a decir que Standard an... 2021-05-20 02:00:15"
      ]
     },
     "execution_count": 8,
     "metadata": {},
     "output_type": "execute_result"
    }
   ],
   "source": [
    "data = data[['tweets', 'date']]\n",
    "data.head()"
   ]
  },
  {
   "cell_type": "code",
   "execution_count": 9,
   "metadata": {},
   "outputs": [],
   "source": [
    "import re \n",
    "\n",
    "pattern1 = '?P<pic>pic.twitter.com/[^\\s]+'\n",
    "pattern2 = '?P<url>https?://[^\\s]+'\n",
    "\n",
    "def text_clean(row):\n",
    "    text = row['tweets']\n",
    "    \n",
    "    links = [tuple(j for j in i if j)[-1] for i in re.findall(f\"({pattern1})|({pattern2})\",text)]\n",
    "    for link in links:\n",
    "        text = text.replace(link,\"\")\n",
    "    \n",
    "    hashtags = [interaction for interaction in text.split() if interaction.startswith(\"#\")]\n",
    "    for hashtag in hashtags:\n",
    "        text = text.replace(hashtag, \"\")\n",
    "        \n",
    "    mentions = [interaction for interaction in text.split() if interaction.startswith(\"@\")]\n",
    "    for mention in mentions:\n",
    "        text = text.replace(mention, \"\")\n",
    "        \n",
    "    return text, links, hashtags, mentions"
   ]
  },
  {
   "cell_type": "code",
   "execution_count": 10,
   "metadata": {},
   "outputs": [
    {
     "data": {
      "text/html": [
       "<div>\n",
       "<style scoped>\n",
       "    .dataframe tbody tr th:only-of-type {\n",
       "        vertical-align: middle;\n",
       "    }\n",
       "\n",
       "    .dataframe tbody tr th {\n",
       "        vertical-align: top;\n",
       "    }\n",
       "\n",
       "    .dataframe thead th {\n",
       "        text-align: right;\n",
       "    }\n",
       "</style>\n",
       "<table border=\"1\" class=\"dataframe\">\n",
       "  <thead>\n",
       "    <tr style=\"text-align: right;\">\n",
       "      <th></th>\n",
       "      <th>tweets</th>\n",
       "      <th>date</th>\n",
       "      <th>texto_limpio</th>\n",
       "      <th>links</th>\n",
       "      <th>hashtags</th>\n",
       "      <th>mentions</th>\n",
       "    </tr>\n",
       "  </thead>\n",
       "  <tbody>\n",
       "    <tr>\n",
       "      <th>0</th>\n",
       "      <td>@CNNEE Auxilio se enloqueció la policia en var...</td>\n",
       "      <td>2021-05-20 04:22:25</td>\n",
       "      <td>Auxilio se enloqueció la policia en varias pa...</td>\n",
       "      <td>[]</td>\n",
       "      <td>[]</td>\n",
       "      <td>[@CNNEE]</td>\n",
       "    </tr>\n",
       "    <tr>\n",
       "      <th>1</th>\n",
       "      <td>😡😡😡 @DirectorPolicia Sigan guardando silencio,...</td>\n",
       "      <td>2021-05-20 03:26:17</td>\n",
       "      <td>😡😡😡  Sigan guardando silencio, que nosotros Se...</td>\n",
       "      <td>[https://t.co/vCHfdXX7zp]</td>\n",
       "      <td>[]</td>\n",
       "      <td>[@DirectorPolicia, @ONUHumanRights, @CorteIDH,...</td>\n",
       "    </tr>\n",
       "    <tr>\n",
       "      <th>2</th>\n",
       "      <td>S&amp;amp;P bajó la calificación de la deuda sober...</td>\n",
       "      <td>2021-05-20 02:51:37</td>\n",
       "      <td>S&amp;amp;P bajó la calificación de la deuda sober...</td>\n",
       "      <td>[]</td>\n",
       "      <td>[]</td>\n",
       "      <td>[]</td>\n",
       "    </tr>\n",
       "    <tr>\n",
       "      <th>3</th>\n",
       "      <td>S.O.S Colombia: golpe de Estado https://t.co/b...</td>\n",
       "      <td>2021-05-20 02:25:57</td>\n",
       "      <td>S.O.S Colombia: golpe de Estado</td>\n",
       "      <td>[https://t.co/bOIOcVQYyr]</td>\n",
       "      <td>[]</td>\n",
       "      <td>[]</td>\n",
       "    </tr>\n",
       "    <tr>\n",
       "      <th>4</th>\n",
       "      <td>¿Ya salió Vicky Dávila a decir que Standard an...</td>\n",
       "      <td>2021-05-20 02:00:15</td>\n",
       "      <td>¿Ya salió Vicky Dávila a decir que Standard an...</td>\n",
       "      <td>[]</td>\n",
       "      <td>[]</td>\n",
       "      <td>[]</td>\n",
       "    </tr>\n",
       "    <tr>\n",
       "      <th>...</th>\n",
       "      <td>...</td>\n",
       "      <td>...</td>\n",
       "      <td>...</td>\n",
       "      <td>...</td>\n",
       "      <td>...</td>\n",
       "      <td>...</td>\n",
       "    </tr>\n",
       "    <tr>\n",
       "      <th>95</th>\n",
       "      <td>@VarskySports Por favor s.o.s nos están matand...</td>\n",
       "      <td>2021-05-14 02:53:07</td>\n",
       "      <td>Por favor s.o.s nos están matando en Colombia 🥺</td>\n",
       "      <td>[]</td>\n",
       "      <td>[]</td>\n",
       "      <td>[@VarskySports]</td>\n",
       "    </tr>\n",
       "    <tr>\n",
       "      <th>96</th>\n",
       "      <td>Organizaciones de derechos humanos en el mundo...</td>\n",
       "      <td>2021-05-14 00:47:29</td>\n",
       "      <td>Organizaciones de derechos humanos en el mundo...</td>\n",
       "      <td>[https://t.co/TyGX5QgajI]</td>\n",
       "      <td>[#SOSColombiaDDHH]</td>\n",
       "      <td>[@ChangeorgCO]</td>\n",
       "    </tr>\n",
       "    <tr>\n",
       "      <th>97</th>\n",
       "      <td>S.O.S. COLOMBIA RESISTE A LAS MASACRES DE ESTE...</td>\n",
       "      <td>2021-05-13 23:08:13</td>\n",
       "      <td>S.O.S. COLOMBIA RESISTE A LAS MASACRES DE ESTE...</td>\n",
       "      <td>[https://t.co/cPDF2FhtJN]</td>\n",
       "      <td>[]</td>\n",
       "      <td>[]</td>\n",
       "    </tr>\n",
       "    <tr>\n",
       "      <th>98</th>\n",
       "      <td>Disponible en 👇\\nhttps://t.co/paO1YrJnr6\\n+ In...</td>\n",
       "      <td>2021-05-13 23:00:09</td>\n",
       "      <td>Disponible en 👇\\n\\n+ Inf 📲 3115928048.        ...</td>\n",
       "      <td>[https://t.co/paO1YrJnr6, https://t.co/bNQkqrb...</td>\n",
       "      <td>[#colombia, #cantantes, #musica, #music, #cant...</td>\n",
       "      <td>[]</td>\n",
       "    </tr>\n",
       "    <tr>\n",
       "      <th>99</th>\n",
       "      <td>@elchiringuitotv Una verguenza @CONMEBOL  S.O....</td>\n",
       "      <td>2021-05-13 20:38:32</td>\n",
       "      <td>Una verguenza   S.O.S Colombia.</td>\n",
       "      <td>[]</td>\n",
       "      <td>[]</td>\n",
       "      <td>[@elchiringuitotv, @CONMEBOL]</td>\n",
       "    </tr>\n",
       "  </tbody>\n",
       "</table>\n",
       "<p>100 rows × 6 columns</p>\n",
       "</div>"
      ],
      "text/plain": [
       "                                               tweets                date  \\\n",
       "0   @CNNEE Auxilio se enloqueció la policia en var... 2021-05-20 04:22:25   \n",
       "1   😡😡😡 @DirectorPolicia Sigan guardando silencio,... 2021-05-20 03:26:17   \n",
       "2   S&amp;P bajó la calificación de la deuda sober... 2021-05-20 02:51:37   \n",
       "3   S.O.S Colombia: golpe de Estado https://t.co/b... 2021-05-20 02:25:57   \n",
       "4   ¿Ya salió Vicky Dávila a decir que Standard an... 2021-05-20 02:00:15   \n",
       "..                                                ...                 ...   \n",
       "95  @VarskySports Por favor s.o.s nos están matand... 2021-05-14 02:53:07   \n",
       "96  Organizaciones de derechos humanos en el mundo... 2021-05-14 00:47:29   \n",
       "97  S.O.S. COLOMBIA RESISTE A LAS MASACRES DE ESTE... 2021-05-13 23:08:13   \n",
       "98  Disponible en 👇\\nhttps://t.co/paO1YrJnr6\\n+ In... 2021-05-13 23:00:09   \n",
       "99  @elchiringuitotv Una verguenza @CONMEBOL  S.O.... 2021-05-13 20:38:32   \n",
       "\n",
       "                                         texto_limpio  \\\n",
       "0    Auxilio se enloqueció la policia en varias pa...   \n",
       "1   😡😡😡  Sigan guardando silencio, que nosotros Se...   \n",
       "2   S&amp;P bajó la calificación de la deuda sober...   \n",
       "3                    S.O.S Colombia: golpe de Estado    \n",
       "4   ¿Ya salió Vicky Dávila a decir que Standard an...   \n",
       "..                                                ...   \n",
       "95    Por favor s.o.s nos están matando en Colombia 🥺   \n",
       "96  Organizaciones de derechos humanos en el mundo...   \n",
       "97  S.O.S. COLOMBIA RESISTE A LAS MASACRES DE ESTE...   \n",
       "98  Disponible en 👇\\n\\n+ Inf 📲 3115928048.        ...   \n",
       "99                    Una verguenza   S.O.S Colombia.   \n",
       "\n",
       "                                                links  \\\n",
       "0                                                  []   \n",
       "1                           [https://t.co/vCHfdXX7zp]   \n",
       "2                                                  []   \n",
       "3                           [https://t.co/bOIOcVQYyr]   \n",
       "4                                                  []   \n",
       "..                                                ...   \n",
       "95                                                 []   \n",
       "96                          [https://t.co/TyGX5QgajI]   \n",
       "97                          [https://t.co/cPDF2FhtJN]   \n",
       "98  [https://t.co/paO1YrJnr6, https://t.co/bNQkqrb...   \n",
       "99                                                 []   \n",
       "\n",
       "                                             hashtags  \\\n",
       "0                                                  []   \n",
       "1                                                  []   \n",
       "2                                                  []   \n",
       "3                                                  []   \n",
       "4                                                  []   \n",
       "..                                                ...   \n",
       "95                                                 []   \n",
       "96                                 [#SOSColombiaDDHH]   \n",
       "97                                                 []   \n",
       "98  [#colombia, #cantantes, #musica, #music, #cant...   \n",
       "99                                                 []   \n",
       "\n",
       "                                             mentions  \n",
       "0                                            [@CNNEE]  \n",
       "1   [@DirectorPolicia, @ONUHumanRights, @CorteIDH,...  \n",
       "2                                                  []  \n",
       "3                                                  []  \n",
       "4                                                  []  \n",
       "..                                                ...  \n",
       "95                                    [@VarskySports]  \n",
       "96                                     [@ChangeorgCO]  \n",
       "97                                                 []  \n",
       "98                                                 []  \n",
       "99                      [@elchiringuitotv, @CONMEBOL]  \n",
       "\n",
       "[100 rows x 6 columns]"
      ]
     },
     "execution_count": 10,
     "metadata": {},
     "output_type": "execute_result"
    }
   ],
   "source": [
    "  \n",
    "data[['texto_limpio', 'links', 'hashtags', 'mentions']] = data.apply(text_clean, axis=1, result_type='expand')\n",
    "data"
   ]
  },
  {
   "cell_type": "code",
   "execution_count": 11,
   "metadata": {},
   "outputs": [
    {
     "data": {
      "text/html": [
       "<div>\n",
       "<style scoped>\n",
       "    .dataframe tbody tr th:only-of-type {\n",
       "        vertical-align: middle;\n",
       "    }\n",
       "\n",
       "    .dataframe tbody tr th {\n",
       "        vertical-align: top;\n",
       "    }\n",
       "\n",
       "    .dataframe thead th {\n",
       "        text-align: right;\n",
       "    }\n",
       "</style>\n",
       "<table border=\"1\" class=\"dataframe\">\n",
       "  <thead>\n",
       "    <tr style=\"text-align: right;\">\n",
       "      <th></th>\n",
       "      <th>tweets</th>\n",
       "      <th>date</th>\n",
       "      <th>texto_limpio</th>\n",
       "      <th>links</th>\n",
       "      <th>hashtags</th>\n",
       "      <th>mentions</th>\n",
       "      <th>emojis</th>\n",
       "    </tr>\n",
       "  </thead>\n",
       "  <tbody>\n",
       "    <tr>\n",
       "      <th>0</th>\n",
       "      <td>@CNNEE Auxilio se enloqueció la policia en var...</td>\n",
       "      <td>2021-05-20 04:22:25</td>\n",
       "      <td>Auxilio se enloqueció la policia en varias pa...</td>\n",
       "      <td>[]</td>\n",
       "      <td>[]</td>\n",
       "      <td>[@CNNEE]</td>\n",
       "      <td>[]</td>\n",
       "    </tr>\n",
       "    <tr>\n",
       "      <th>1</th>\n",
       "      <td>😡😡😡 @DirectorPolicia Sigan guardando silencio,...</td>\n",
       "      <td>2021-05-20 03:26:17</td>\n",
       "      <td>😡😡😡  Sigan guardando silencio, que nosotros Se...</td>\n",
       "      <td>[https://t.co/vCHfdXX7zp]</td>\n",
       "      <td>[]</td>\n",
       "      <td>[@DirectorPolicia, @ONUHumanRights, @CorteIDH,...</td>\n",
       "      <td>[😡, 😡, 😡]</td>\n",
       "    </tr>\n",
       "    <tr>\n",
       "      <th>2</th>\n",
       "      <td>S&amp;amp;P bajó la calificación de la deuda sober...</td>\n",
       "      <td>2021-05-20 02:51:37</td>\n",
       "      <td>S&amp;amp;P bajó la calificación de la deuda sober...</td>\n",
       "      <td>[]</td>\n",
       "      <td>[]</td>\n",
       "      <td>[]</td>\n",
       "      <td>[]</td>\n",
       "    </tr>\n",
       "    <tr>\n",
       "      <th>3</th>\n",
       "      <td>S.O.S Colombia: golpe de Estado https://t.co/b...</td>\n",
       "      <td>2021-05-20 02:25:57</td>\n",
       "      <td>S.O.S Colombia: golpe de Estado</td>\n",
       "      <td>[https://t.co/bOIOcVQYyr]</td>\n",
       "      <td>[]</td>\n",
       "      <td>[]</td>\n",
       "      <td>[]</td>\n",
       "    </tr>\n",
       "    <tr>\n",
       "      <th>4</th>\n",
       "      <td>¿Ya salió Vicky Dávila a decir que Standard an...</td>\n",
       "      <td>2021-05-20 02:00:15</td>\n",
       "      <td>¿Ya salió Vicky Dávila a decir que Standard an...</td>\n",
       "      <td>[]</td>\n",
       "      <td>[]</td>\n",
       "      <td>[]</td>\n",
       "      <td>[]</td>\n",
       "    </tr>\n",
       "  </tbody>\n",
       "</table>\n",
       "</div>"
      ],
      "text/plain": [
       "                                              tweets                date  \\\n",
       "0  @CNNEE Auxilio se enloqueció la policia en var... 2021-05-20 04:22:25   \n",
       "1  😡😡😡 @DirectorPolicia Sigan guardando silencio,... 2021-05-20 03:26:17   \n",
       "2  S&amp;P bajó la calificación de la deuda sober... 2021-05-20 02:51:37   \n",
       "3  S.O.S Colombia: golpe de Estado https://t.co/b... 2021-05-20 02:25:57   \n",
       "4  ¿Ya salió Vicky Dávila a decir que Standard an... 2021-05-20 02:00:15   \n",
       "\n",
       "                                        texto_limpio  \\\n",
       "0   Auxilio se enloqueció la policia en varias pa...   \n",
       "1  😡😡😡  Sigan guardando silencio, que nosotros Se...   \n",
       "2  S&amp;P bajó la calificación de la deuda sober...   \n",
       "3                   S.O.S Colombia: golpe de Estado    \n",
       "4  ¿Ya salió Vicky Dávila a decir que Standard an...   \n",
       "\n",
       "                       links hashtags  \\\n",
       "0                         []       []   \n",
       "1  [https://t.co/vCHfdXX7zp]       []   \n",
       "2                         []       []   \n",
       "3  [https://t.co/bOIOcVQYyr]       []   \n",
       "4                         []       []   \n",
       "\n",
       "                                            mentions     emojis  \n",
       "0                                           [@CNNEE]         []  \n",
       "1  [@DirectorPolicia, @ONUHumanRights, @CorteIDH,...  [😡, 😡, 😡]  \n",
       "2                                                 []         []  \n",
       "3                                                 []         []  \n",
       "4                                                 []         []  "
      ]
     },
     "execution_count": 11,
     "metadata": {},
     "output_type": "execute_result"
    }
   ],
   "source": [
    "import regex\n",
    "import emoji\n",
    "\n",
    "def get_emojis(text):\n",
    "    emoji_list = []\n",
    "    data = regex.findall(r'\\X', text)\n",
    "    for word in data:\n",
    "        if any(char in emoji.UNICODE_EMOJI['en'] for char in word):\n",
    "            emoji_list.append(word)\n",
    "\n",
    "    return emoji_list\n",
    "  \n",
    "  \n",
    "data['emojis'] = data['texto_limpio'].apply(lambda text: get_emojis(text))\n",
    "data.head()\n"
   ]
  },
  {
   "cell_type": "code",
   "execution_count": 12,
   "metadata": {},
   "outputs": [
    {
     "data": {
      "text/html": [
       "<div>\n",
       "<style scoped>\n",
       "    .dataframe tbody tr th:only-of-type {\n",
       "        vertical-align: middle;\n",
       "    }\n",
       "\n",
       "    .dataframe tbody tr th {\n",
       "        vertical-align: top;\n",
       "    }\n",
       "\n",
       "    .dataframe thead th {\n",
       "        text-align: right;\n",
       "    }\n",
       "</style>\n",
       "<table border=\"1\" class=\"dataframe\">\n",
       "  <thead>\n",
       "    <tr style=\"text-align: right;\">\n",
       "      <th></th>\n",
       "      <th>hora</th>\n",
       "      <th>cnt</th>\n",
       "    </tr>\n",
       "  </thead>\n",
       "  <tbody>\n",
       "    <tr>\n",
       "      <th>60</th>\n",
       "      <td>00:10:00</td>\n",
       "      <td>1</td>\n",
       "    </tr>\n",
       "    <tr>\n",
       "      <th>65</th>\n",
       "      <td>00:19:00</td>\n",
       "      <td>1</td>\n",
       "    </tr>\n",
       "    <tr>\n",
       "      <th>47</th>\n",
       "      <td>00:47:00</td>\n",
       "      <td>1</td>\n",
       "    </tr>\n",
       "    <tr>\n",
       "      <th>71</th>\n",
       "      <td>01:06:00</td>\n",
       "      <td>1</td>\n",
       "    </tr>\n",
       "    <tr>\n",
       "      <th>78</th>\n",
       "      <td>01:12:00</td>\n",
       "      <td>1</td>\n",
       "    </tr>\n",
       "    <tr>\n",
       "      <th>...</th>\n",
       "      <td>...</td>\n",
       "      <td>...</td>\n",
       "    </tr>\n",
       "    <tr>\n",
       "      <th>64</th>\n",
       "      <td>23:08:00</td>\n",
       "      <td>1</td>\n",
       "    </tr>\n",
       "    <tr>\n",
       "      <th>70</th>\n",
       "      <td>23:12:00</td>\n",
       "      <td>1</td>\n",
       "    </tr>\n",
       "    <tr>\n",
       "      <th>38</th>\n",
       "      <td>23:24:00</td>\n",
       "      <td>1</td>\n",
       "    </tr>\n",
       "    <tr>\n",
       "      <th>21</th>\n",
       "      <td>23:36:00</td>\n",
       "      <td>1</td>\n",
       "    </tr>\n",
       "    <tr>\n",
       "      <th>18</th>\n",
       "      <td>23:44:00</td>\n",
       "      <td>1</td>\n",
       "    </tr>\n",
       "  </tbody>\n",
       "</table>\n",
       "<p>95 rows × 2 columns</p>\n",
       "</div>"
      ],
      "text/plain": [
       "        hora  cnt\n",
       "60  00:10:00    1\n",
       "65  00:19:00    1\n",
       "47  00:47:00    1\n",
       "71  01:06:00    1\n",
       "78  01:12:00    1\n",
       "..       ...  ...\n",
       "64  23:08:00    1\n",
       "70  23:12:00    1\n",
       "38  23:24:00    1\n",
       "21  23:36:00    1\n",
       "18  23:44:00    1\n",
       "\n",
       "[95 rows x 2 columns]"
      ]
     },
     "execution_count": 12,
     "metadata": {},
     "output_type": "execute_result"
    }
   ],
   "source": [
    "data['hora'] = data['date'].dt.floor('T').dt.time\n",
    "temp = pd.DataFrame(data.hora.value_counts()).reset_index()\n",
    "temp.columns = ['hora', 'cnt']\n",
    "temp = temp.sort_values('hora')\n",
    "temp"
   ]
  },
  {
   "cell_type": "code",
   "execution_count": 13,
   "metadata": {},
   "outputs": [
    {
     "data": {
      "text/html": [
       "        <script type=\"text/javascript\">\n",
       "        window.PlotlyConfig = {MathJaxConfig: 'local'};\n",
       "        if (window.MathJax) {MathJax.Hub.Config({SVG: {font: \"STIX-Web\"}});}\n",
       "        if (typeof require !== 'undefined') {\n",
       "        require.undef(\"plotly\");\n",
       "        requirejs.config({\n",
       "            paths: {\n",
       "                'plotly': ['https://cdn.plot.ly/plotly-latest.min']\n",
       "            }\n",
       "        });\n",
       "        require(['plotly'], function(Plotly) {\n",
       "            window._Plotly = Plotly;\n",
       "        });\n",
       "        }\n",
       "        </script>\n",
       "        "
      ]
     },
     "metadata": {},
     "output_type": "display_data"
    }
   ],
   "source": [
    "import plotly.io as pio\n",
    "import plotly.express as px\n",
    "import plotly.graph_objs as go\n",
    "from plotly.offline import download_plotlyjs, init_notebook_mode, plot, iplot\n",
    "\n",
    "import matplotlib.pyplot as plt\n",
    "%matplotlib inline\n",
    "init_notebook_mode(connected=True)"
   ]
  },
  {
   "cell_type": "markdown",
   "metadata": {},
   "source": [
    "###  `[25 pts]` Punto 2: Hacer una visualización sobre esos tuits"
   ]
  },
  {
   "cell_type": "code",
   "execution_count": 14,
   "metadata": {},
   "outputs": [
    {
     "data": {
      "application/vnd.plotly.v1+json": {
       "config": {
        "linkText": "Export to plot.ly",
        "plotlyServerURL": "https://plot.ly",
        "showLink": false
       },
       "data": [
        {
         "hoverinfo": "text",
         "line": {
          "color": "blue"
         },
         "mode": "lines+markers",
         "name": "Horas",
         "text": [
          "Fecha: 00:10:00<br>Tuits: 1",
          "Fecha: 00:19:00<br>Tuits: 1",
          "Fecha: 00:47:00<br>Tuits: 1",
          "Fecha: 01:06:00<br>Tuits: 1",
          "Fecha: 01:12:00<br>Tuits: 1",
          "Fecha: 01:35:00<br>Tuits: 1",
          "Fecha: 01:46:00<br>Tuits: 1",
          "Fecha: 02:00:00<br>Tuits: 1",
          "Fecha: 02:01:00<br>Tuits: 1",
          "Fecha: 02:07:00<br>Tuits: 1",
          "Fecha: 02:10:00<br>Tuits: 1",
          "Fecha: 02:14:00<br>Tuits: 1",
          "Fecha: 02:24:00<br>Tuits: 1",
          "Fecha: 02:25:00<br>Tuits: 1",
          "Fecha: 02:51:00<br>Tuits: 1",
          "Fecha: 02:53:00<br>Tuits: 1",
          "Fecha: 03:07:00<br>Tuits: 1",
          "Fecha: 03:21:00<br>Tuits: 1",
          "Fecha: 03:22:00<br>Tuits: 1",
          "Fecha: 03:26:00<br>Tuits: 1",
          "Fecha: 03:33:00<br>Tuits: 1",
          "Fecha: 03:34:00<br>Tuits: 1",
          "Fecha: 04:08:00<br>Tuits: 1",
          "Fecha: 04:22:00<br>Tuits: 1",
          "Fecha: 04:33:00<br>Tuits: 1",
          "Fecha: 04:52:00<br>Tuits: 1",
          "Fecha: 05:12:00<br>Tuits: 1",
          "Fecha: 08:34:00<br>Tuits: 1",
          "Fecha: 09:53:00<br>Tuits: 1",
          "Fecha: 10:17:00<br>Tuits: 1",
          "Fecha: 10:49:00<br>Tuits: 1",
          "Fecha: 10:58:00<br>Tuits: 1",
          "Fecha: 11:00:00<br>Tuits: 1",
          "Fecha: 12:01:00<br>Tuits: 1",
          "Fecha: 12:24:00<br>Tuits: 1",
          "Fecha: 12:37:00<br>Tuits: 1",
          "Fecha: 12:38:00<br>Tuits: 1",
          "Fecha: 12:45:00<br>Tuits: 1",
          "Fecha: 12:51:00<br>Tuits: 1",
          "Fecha: 13:09:00<br>Tuits: 1",
          "Fecha: 13:10:00<br>Tuits: 1",
          "Fecha: 13:12:00<br>Tuits: 1",
          "Fecha: 13:16:00<br>Tuits: 1",
          "Fecha: 13:24:00<br>Tuits: 1",
          "Fecha: 13:39:00<br>Tuits: 1",
          "Fecha: 13:48:00<br>Tuits: 2",
          "Fecha: 14:04:00<br>Tuits: 1",
          "Fecha: 14:12:00<br>Tuits: 1",
          "Fecha: 14:14:00<br>Tuits: 1",
          "Fecha: 14:15:00<br>Tuits: 1",
          "Fecha: 14:22:00<br>Tuits: 1",
          "Fecha: 14:28:00<br>Tuits: 1",
          "Fecha: 14:47:00<br>Tuits: 1",
          "Fecha: 14:53:00<br>Tuits: 1",
          "Fecha: 15:01:00<br>Tuits: 1",
          "Fecha: 15:21:00<br>Tuits: 1",
          "Fecha: 15:24:00<br>Tuits: 1",
          "Fecha: 15:34:00<br>Tuits: 1",
          "Fecha: 15:39:00<br>Tuits: 1",
          "Fecha: 15:40:00<br>Tuits: 1",
          "Fecha: 15:43:00<br>Tuits: 1",
          "Fecha: 15:53:00<br>Tuits: 2",
          "Fecha: 15:57:00<br>Tuits: 1",
          "Fecha: 16:01:00<br>Tuits: 2",
          "Fecha: 16:04:00<br>Tuits: 1",
          "Fecha: 16:15:00<br>Tuits: 1",
          "Fecha: 16:19:00<br>Tuits: 1",
          "Fecha: 16:24:00<br>Tuits: 1",
          "Fecha: 16:31:00<br>Tuits: 3",
          "Fecha: 16:45:00<br>Tuits: 1",
          "Fecha: 16:59:00<br>Tuits: 1",
          "Fecha: 17:25:00<br>Tuits: 1",
          "Fecha: 18:00:00<br>Tuits: 1",
          "Fecha: 18:19:00<br>Tuits: 1",
          "Fecha: 18:33:00<br>Tuits: 1",
          "Fecha: 18:50:00<br>Tuits: 1",
          "Fecha: 19:03:00<br>Tuits: 1",
          "Fecha: 19:32:00<br>Tuits: 1",
          "Fecha: 19:44:00<br>Tuits: 1",
          "Fecha: 20:00:00<br>Tuits: 1",
          "Fecha: 20:16:00<br>Tuits: 1",
          "Fecha: 20:38:00<br>Tuits: 1",
          "Fecha: 20:42:00<br>Tuits: 1",
          "Fecha: 21:34:00<br>Tuits: 1",
          "Fecha: 21:44:00<br>Tuits: 1",
          "Fecha: 22:13:00<br>Tuits: 1",
          "Fecha: 22:25:00<br>Tuits: 1",
          "Fecha: 22:35:00<br>Tuits: 1",
          "Fecha: 22:51:00<br>Tuits: 1",
          "Fecha: 23:00:00<br>Tuits: 1",
          "Fecha: 23:08:00<br>Tuits: 1",
          "Fecha: 23:12:00<br>Tuits: 1",
          "Fecha: 23:24:00<br>Tuits: 1",
          "Fecha: 23:36:00<br>Tuits: 1",
          "Fecha: 23:44:00<br>Tuits: 1"
         ],
         "type": "scatter",
         "x": [
          "00:10:00",
          "00:19:00",
          "00:47:00",
          "01:06:00",
          "01:12:00",
          "01:35:00",
          "01:46:00",
          "02:00:00",
          "02:01:00",
          "02:07:00",
          "02:10:00",
          "02:14:00",
          "02:24:00",
          "02:25:00",
          "02:51:00",
          "02:53:00",
          "03:07:00",
          "03:21:00",
          "03:22:00",
          "03:26:00",
          "03:33:00",
          "03:34:00",
          "04:08:00",
          "04:22:00",
          "04:33:00",
          "04:52:00",
          "05:12:00",
          "08:34:00",
          "09:53:00",
          "10:17:00",
          "10:49:00",
          "10:58:00",
          "11:00:00",
          "12:01:00",
          "12:24:00",
          "12:37:00",
          "12:38:00",
          "12:45:00",
          "12:51:00",
          "13:09:00",
          "13:10:00",
          "13:12:00",
          "13:16:00",
          "13:24:00",
          "13:39:00",
          "13:48:00",
          "14:04:00",
          "14:12:00",
          "14:14:00",
          "14:15:00",
          "14:22:00",
          "14:28:00",
          "14:47:00",
          "14:53:00",
          "15:01:00",
          "15:21:00",
          "15:24:00",
          "15:34:00",
          "15:39:00",
          "15:40:00",
          "15:43:00",
          "15:53:00",
          "15:57:00",
          "16:01:00",
          "16:04:00",
          "16:15:00",
          "16:19:00",
          "16:24:00",
          "16:31:00",
          "16:45:00",
          "16:59:00",
          "17:25:00",
          "18:00:00",
          "18:19:00",
          "18:33:00",
          "18:50:00",
          "19:03:00",
          "19:32:00",
          "19:44:00",
          "20:00:00",
          "20:16:00",
          "20:38:00",
          "20:42:00",
          "21:34:00",
          "21:44:00",
          "22:13:00",
          "22:25:00",
          "22:35:00",
          "22:51:00",
          "23:00:00",
          "23:08:00",
          "23:12:00",
          "23:24:00",
          "23:36:00",
          "23:44:00"
         ],
         "y": [
          1,
          1,
          1,
          1,
          1,
          1,
          1,
          1,
          1,
          1,
          1,
          1,
          1,
          1,
          1,
          1,
          1,
          1,
          1,
          1,
          1,
          1,
          1,
          1,
          1,
          1,
          1,
          1,
          1,
          1,
          1,
          1,
          1,
          1,
          1,
          1,
          1,
          1,
          1,
          1,
          1,
          1,
          1,
          1,
          1,
          2,
          1,
          1,
          1,
          1,
          1,
          1,
          1,
          1,
          1,
          1,
          1,
          1,
          1,
          1,
          1,
          2,
          1,
          2,
          1,
          1,
          1,
          1,
          3,
          1,
          1,
          1,
          1,
          1,
          1,
          1,
          1,
          1,
          1,
          1,
          1,
          1,
          1,
          1,
          1,
          1,
          1,
          1,
          1,
          1,
          1,
          1,
          1,
          1,
          1
         ]
        }
       ],
       "layout": {
        "template": {
         "data": {
          "bar": [
           {
            "error_x": {
             "color": "#2a3f5f"
            },
            "error_y": {
             "color": "#2a3f5f"
            },
            "marker": {
             "line": {
              "color": "#E5ECF6",
              "width": 0.5
             }
            },
            "type": "bar"
           }
          ],
          "barpolar": [
           {
            "marker": {
             "line": {
              "color": "#E5ECF6",
              "width": 0.5
             }
            },
            "type": "barpolar"
           }
          ],
          "carpet": [
           {
            "aaxis": {
             "endlinecolor": "#2a3f5f",
             "gridcolor": "white",
             "linecolor": "white",
             "minorgridcolor": "white",
             "startlinecolor": "#2a3f5f"
            },
            "baxis": {
             "endlinecolor": "#2a3f5f",
             "gridcolor": "white",
             "linecolor": "white",
             "minorgridcolor": "white",
             "startlinecolor": "#2a3f5f"
            },
            "type": "carpet"
           }
          ],
          "choropleth": [
           {
            "colorbar": {
             "outlinewidth": 0,
             "ticks": ""
            },
            "type": "choropleth"
           }
          ],
          "contour": [
           {
            "colorbar": {
             "outlinewidth": 0,
             "ticks": ""
            },
            "colorscale": [
             [
              0,
              "#0d0887"
             ],
             [
              0.1111111111111111,
              "#46039f"
             ],
             [
              0.2222222222222222,
              "#7201a8"
             ],
             [
              0.3333333333333333,
              "#9c179e"
             ],
             [
              0.4444444444444444,
              "#bd3786"
             ],
             [
              0.5555555555555556,
              "#d8576b"
             ],
             [
              0.6666666666666666,
              "#ed7953"
             ],
             [
              0.7777777777777778,
              "#fb9f3a"
             ],
             [
              0.8888888888888888,
              "#fdca26"
             ],
             [
              1,
              "#f0f921"
             ]
            ],
            "type": "contour"
           }
          ],
          "contourcarpet": [
           {
            "colorbar": {
             "outlinewidth": 0,
             "ticks": ""
            },
            "type": "contourcarpet"
           }
          ],
          "heatmap": [
           {
            "colorbar": {
             "outlinewidth": 0,
             "ticks": ""
            },
            "colorscale": [
             [
              0,
              "#0d0887"
             ],
             [
              0.1111111111111111,
              "#46039f"
             ],
             [
              0.2222222222222222,
              "#7201a8"
             ],
             [
              0.3333333333333333,
              "#9c179e"
             ],
             [
              0.4444444444444444,
              "#bd3786"
             ],
             [
              0.5555555555555556,
              "#d8576b"
             ],
             [
              0.6666666666666666,
              "#ed7953"
             ],
             [
              0.7777777777777778,
              "#fb9f3a"
             ],
             [
              0.8888888888888888,
              "#fdca26"
             ],
             [
              1,
              "#f0f921"
             ]
            ],
            "type": "heatmap"
           }
          ],
          "heatmapgl": [
           {
            "colorbar": {
             "outlinewidth": 0,
             "ticks": ""
            },
            "colorscale": [
             [
              0,
              "#0d0887"
             ],
             [
              0.1111111111111111,
              "#46039f"
             ],
             [
              0.2222222222222222,
              "#7201a8"
             ],
             [
              0.3333333333333333,
              "#9c179e"
             ],
             [
              0.4444444444444444,
              "#bd3786"
             ],
             [
              0.5555555555555556,
              "#d8576b"
             ],
             [
              0.6666666666666666,
              "#ed7953"
             ],
             [
              0.7777777777777778,
              "#fb9f3a"
             ],
             [
              0.8888888888888888,
              "#fdca26"
             ],
             [
              1,
              "#f0f921"
             ]
            ],
            "type": "heatmapgl"
           }
          ],
          "histogram": [
           {
            "marker": {
             "colorbar": {
              "outlinewidth": 0,
              "ticks": ""
             }
            },
            "type": "histogram"
           }
          ],
          "histogram2d": [
           {
            "colorbar": {
             "outlinewidth": 0,
             "ticks": ""
            },
            "colorscale": [
             [
              0,
              "#0d0887"
             ],
             [
              0.1111111111111111,
              "#46039f"
             ],
             [
              0.2222222222222222,
              "#7201a8"
             ],
             [
              0.3333333333333333,
              "#9c179e"
             ],
             [
              0.4444444444444444,
              "#bd3786"
             ],
             [
              0.5555555555555556,
              "#d8576b"
             ],
             [
              0.6666666666666666,
              "#ed7953"
             ],
             [
              0.7777777777777778,
              "#fb9f3a"
             ],
             [
              0.8888888888888888,
              "#fdca26"
             ],
             [
              1,
              "#f0f921"
             ]
            ],
            "type": "histogram2d"
           }
          ],
          "histogram2dcontour": [
           {
            "colorbar": {
             "outlinewidth": 0,
             "ticks": ""
            },
            "colorscale": [
             [
              0,
              "#0d0887"
             ],
             [
              0.1111111111111111,
              "#46039f"
             ],
             [
              0.2222222222222222,
              "#7201a8"
             ],
             [
              0.3333333333333333,
              "#9c179e"
             ],
             [
              0.4444444444444444,
              "#bd3786"
             ],
             [
              0.5555555555555556,
              "#d8576b"
             ],
             [
              0.6666666666666666,
              "#ed7953"
             ],
             [
              0.7777777777777778,
              "#fb9f3a"
             ],
             [
              0.8888888888888888,
              "#fdca26"
             ],
             [
              1,
              "#f0f921"
             ]
            ],
            "type": "histogram2dcontour"
           }
          ],
          "mesh3d": [
           {
            "colorbar": {
             "outlinewidth": 0,
             "ticks": ""
            },
            "type": "mesh3d"
           }
          ],
          "parcoords": [
           {
            "line": {
             "colorbar": {
              "outlinewidth": 0,
              "ticks": ""
             }
            },
            "type": "parcoords"
           }
          ],
          "pie": [
           {
            "automargin": true,
            "type": "pie"
           }
          ],
          "scatter": [
           {
            "marker": {
             "colorbar": {
              "outlinewidth": 0,
              "ticks": ""
             }
            },
            "type": "scatter"
           }
          ],
          "scatter3d": [
           {
            "line": {
             "colorbar": {
              "outlinewidth": 0,
              "ticks": ""
             }
            },
            "marker": {
             "colorbar": {
              "outlinewidth": 0,
              "ticks": ""
             }
            },
            "type": "scatter3d"
           }
          ],
          "scattercarpet": [
           {
            "marker": {
             "colorbar": {
              "outlinewidth": 0,
              "ticks": ""
             }
            },
            "type": "scattercarpet"
           }
          ],
          "scattergeo": [
           {
            "marker": {
             "colorbar": {
              "outlinewidth": 0,
              "ticks": ""
             }
            },
            "type": "scattergeo"
           }
          ],
          "scattergl": [
           {
            "marker": {
             "colorbar": {
              "outlinewidth": 0,
              "ticks": ""
             }
            },
            "type": "scattergl"
           }
          ],
          "scattermapbox": [
           {
            "marker": {
             "colorbar": {
              "outlinewidth": 0,
              "ticks": ""
             }
            },
            "type": "scattermapbox"
           }
          ],
          "scatterpolar": [
           {
            "marker": {
             "colorbar": {
              "outlinewidth": 0,
              "ticks": ""
             }
            },
            "type": "scatterpolar"
           }
          ],
          "scatterpolargl": [
           {
            "marker": {
             "colorbar": {
              "outlinewidth": 0,
              "ticks": ""
             }
            },
            "type": "scatterpolargl"
           }
          ],
          "scatterternary": [
           {
            "marker": {
             "colorbar": {
              "outlinewidth": 0,
              "ticks": ""
             }
            },
            "type": "scatterternary"
           }
          ],
          "surface": [
           {
            "colorbar": {
             "outlinewidth": 0,
             "ticks": ""
            },
            "colorscale": [
             [
              0,
              "#0d0887"
             ],
             [
              0.1111111111111111,
              "#46039f"
             ],
             [
              0.2222222222222222,
              "#7201a8"
             ],
             [
              0.3333333333333333,
              "#9c179e"
             ],
             [
              0.4444444444444444,
              "#bd3786"
             ],
             [
              0.5555555555555556,
              "#d8576b"
             ],
             [
              0.6666666666666666,
              "#ed7953"
             ],
             [
              0.7777777777777778,
              "#fb9f3a"
             ],
             [
              0.8888888888888888,
              "#fdca26"
             ],
             [
              1,
              "#f0f921"
             ]
            ],
            "type": "surface"
           }
          ],
          "table": [
           {
            "cells": {
             "fill": {
              "color": "#EBF0F8"
             },
             "line": {
              "color": "white"
             }
            },
            "header": {
             "fill": {
              "color": "#C8D4E3"
             },
             "line": {
              "color": "white"
             }
            },
            "type": "table"
           }
          ]
         },
         "layout": {
          "annotationdefaults": {
           "arrowcolor": "#2a3f5f",
           "arrowhead": 0,
           "arrowwidth": 1
          },
          "coloraxis": {
           "colorbar": {
            "outlinewidth": 0,
            "ticks": ""
           }
          },
          "colorscale": {
           "diverging": [
            [
             0,
             "#8e0152"
            ],
            [
             0.1,
             "#c51b7d"
            ],
            [
             0.2,
             "#de77ae"
            ],
            [
             0.3,
             "#f1b6da"
            ],
            [
             0.4,
             "#fde0ef"
            ],
            [
             0.5,
             "#f7f7f7"
            ],
            [
             0.6,
             "#e6f5d0"
            ],
            [
             0.7,
             "#b8e186"
            ],
            [
             0.8,
             "#7fbc41"
            ],
            [
             0.9,
             "#4d9221"
            ],
            [
             1,
             "#276419"
            ]
           ],
           "sequential": [
            [
             0,
             "#0d0887"
            ],
            [
             0.1111111111111111,
             "#46039f"
            ],
            [
             0.2222222222222222,
             "#7201a8"
            ],
            [
             0.3333333333333333,
             "#9c179e"
            ],
            [
             0.4444444444444444,
             "#bd3786"
            ],
            [
             0.5555555555555556,
             "#d8576b"
            ],
            [
             0.6666666666666666,
             "#ed7953"
            ],
            [
             0.7777777777777778,
             "#fb9f3a"
            ],
            [
             0.8888888888888888,
             "#fdca26"
            ],
            [
             1,
             "#f0f921"
            ]
           ],
           "sequentialminus": [
            [
             0,
             "#0d0887"
            ],
            [
             0.1111111111111111,
             "#46039f"
            ],
            [
             0.2222222222222222,
             "#7201a8"
            ],
            [
             0.3333333333333333,
             "#9c179e"
            ],
            [
             0.4444444444444444,
             "#bd3786"
            ],
            [
             0.5555555555555556,
             "#d8576b"
            ],
            [
             0.6666666666666666,
             "#ed7953"
            ],
            [
             0.7777777777777778,
             "#fb9f3a"
            ],
            [
             0.8888888888888888,
             "#fdca26"
            ],
            [
             1,
             "#f0f921"
            ]
           ]
          },
          "colorway": [
           "#636efa",
           "#EF553B",
           "#00cc96",
           "#ab63fa",
           "#FFA15A",
           "#19d3f3",
           "#FF6692",
           "#B6E880",
           "#FF97FF",
           "#FECB52"
          ],
          "font": {
           "color": "#2a3f5f"
          },
          "geo": {
           "bgcolor": "white",
           "lakecolor": "white",
           "landcolor": "#E5ECF6",
           "showlakes": true,
           "showland": true,
           "subunitcolor": "white"
          },
          "hoverlabel": {
           "align": "left"
          },
          "hovermode": "closest",
          "mapbox": {
           "style": "light"
          },
          "paper_bgcolor": "white",
          "plot_bgcolor": "#E5ECF6",
          "polar": {
           "angularaxis": {
            "gridcolor": "white",
            "linecolor": "white",
            "ticks": ""
           },
           "bgcolor": "#E5ECF6",
           "radialaxis": {
            "gridcolor": "white",
            "linecolor": "white",
            "ticks": ""
           }
          },
          "scene": {
           "xaxis": {
            "backgroundcolor": "#E5ECF6",
            "gridcolor": "white",
            "gridwidth": 2,
            "linecolor": "white",
            "showbackground": true,
            "ticks": "",
            "zerolinecolor": "white"
           },
           "yaxis": {
            "backgroundcolor": "#E5ECF6",
            "gridcolor": "white",
            "gridwidth": 2,
            "linecolor": "white",
            "showbackground": true,
            "ticks": "",
            "zerolinecolor": "white"
           },
           "zaxis": {
            "backgroundcolor": "#E5ECF6",
            "gridcolor": "white",
            "gridwidth": 2,
            "linecolor": "white",
            "showbackground": true,
            "ticks": "",
            "zerolinecolor": "white"
           }
          },
          "shapedefaults": {
           "line": {
            "color": "#2a3f5f"
           }
          },
          "ternary": {
           "aaxis": {
            "gridcolor": "white",
            "linecolor": "white",
            "ticks": ""
           },
           "baxis": {
            "gridcolor": "white",
            "linecolor": "white",
            "ticks": ""
           },
           "bgcolor": "#E5ECF6",
           "caxis": {
            "gridcolor": "white",
            "linecolor": "white",
            "ticks": ""
           }
          },
          "title": {
           "x": 0.05
          },
          "xaxis": {
           "automargin": true,
           "gridcolor": "white",
           "linecolor": "white",
           "ticks": "",
           "title": {
            "standoff": 15
           },
           "zerolinecolor": "white",
           "zerolinewidth": 2
          },
          "yaxis": {
           "automargin": true,
           "gridcolor": "white",
           "linecolor": "white",
           "ticks": "",
           "title": {
            "standoff": 15
           },
           "zerolinecolor": "white",
           "zerolinewidth": 2
          }
         }
        },
        "title": {
         "text": "Número de tuits por hora"
        }
       }
      },
      "text/html": [
       "<div>\n",
       "        \n",
       "        \n",
       "            <div id=\"967e3a12-6bc9-47d0-b8f2-f6fbc41bfa58\" class=\"plotly-graph-div\" style=\"height:525px; width:100%;\"></div>\n",
       "            <script type=\"text/javascript\">\n",
       "                require([\"plotly\"], function(Plotly) {\n",
       "                    window.PLOTLYENV=window.PLOTLYENV || {};\n",
       "                    \n",
       "                if (document.getElementById(\"967e3a12-6bc9-47d0-b8f2-f6fbc41bfa58\")) {\n",
       "                    Plotly.newPlot(\n",
       "                        '967e3a12-6bc9-47d0-b8f2-f6fbc41bfa58',\n",
       "                        [{\"hoverinfo\": \"text\", \"line\": {\"color\": \"blue\"}, \"mode\": \"lines+markers\", \"name\": \"Horas\", \"text\": [\"Fecha: 00:10:00<br>Tuits: 1\", \"Fecha: 00:19:00<br>Tuits: 1\", \"Fecha: 00:47:00<br>Tuits: 1\", \"Fecha: 01:06:00<br>Tuits: 1\", \"Fecha: 01:12:00<br>Tuits: 1\", \"Fecha: 01:35:00<br>Tuits: 1\", \"Fecha: 01:46:00<br>Tuits: 1\", \"Fecha: 02:00:00<br>Tuits: 1\", \"Fecha: 02:01:00<br>Tuits: 1\", \"Fecha: 02:07:00<br>Tuits: 1\", \"Fecha: 02:10:00<br>Tuits: 1\", \"Fecha: 02:14:00<br>Tuits: 1\", \"Fecha: 02:24:00<br>Tuits: 1\", \"Fecha: 02:25:00<br>Tuits: 1\", \"Fecha: 02:51:00<br>Tuits: 1\", \"Fecha: 02:53:00<br>Tuits: 1\", \"Fecha: 03:07:00<br>Tuits: 1\", \"Fecha: 03:21:00<br>Tuits: 1\", \"Fecha: 03:22:00<br>Tuits: 1\", \"Fecha: 03:26:00<br>Tuits: 1\", \"Fecha: 03:33:00<br>Tuits: 1\", \"Fecha: 03:34:00<br>Tuits: 1\", \"Fecha: 04:08:00<br>Tuits: 1\", \"Fecha: 04:22:00<br>Tuits: 1\", \"Fecha: 04:33:00<br>Tuits: 1\", \"Fecha: 04:52:00<br>Tuits: 1\", \"Fecha: 05:12:00<br>Tuits: 1\", \"Fecha: 08:34:00<br>Tuits: 1\", \"Fecha: 09:53:00<br>Tuits: 1\", \"Fecha: 10:17:00<br>Tuits: 1\", \"Fecha: 10:49:00<br>Tuits: 1\", \"Fecha: 10:58:00<br>Tuits: 1\", \"Fecha: 11:00:00<br>Tuits: 1\", \"Fecha: 12:01:00<br>Tuits: 1\", \"Fecha: 12:24:00<br>Tuits: 1\", \"Fecha: 12:37:00<br>Tuits: 1\", \"Fecha: 12:38:00<br>Tuits: 1\", \"Fecha: 12:45:00<br>Tuits: 1\", \"Fecha: 12:51:00<br>Tuits: 1\", \"Fecha: 13:09:00<br>Tuits: 1\", \"Fecha: 13:10:00<br>Tuits: 1\", \"Fecha: 13:12:00<br>Tuits: 1\", \"Fecha: 13:16:00<br>Tuits: 1\", \"Fecha: 13:24:00<br>Tuits: 1\", \"Fecha: 13:39:00<br>Tuits: 1\", \"Fecha: 13:48:00<br>Tuits: 2\", \"Fecha: 14:04:00<br>Tuits: 1\", \"Fecha: 14:12:00<br>Tuits: 1\", \"Fecha: 14:14:00<br>Tuits: 1\", \"Fecha: 14:15:00<br>Tuits: 1\", \"Fecha: 14:22:00<br>Tuits: 1\", \"Fecha: 14:28:00<br>Tuits: 1\", \"Fecha: 14:47:00<br>Tuits: 1\", \"Fecha: 14:53:00<br>Tuits: 1\", \"Fecha: 15:01:00<br>Tuits: 1\", \"Fecha: 15:21:00<br>Tuits: 1\", \"Fecha: 15:24:00<br>Tuits: 1\", \"Fecha: 15:34:00<br>Tuits: 1\", \"Fecha: 15:39:00<br>Tuits: 1\", \"Fecha: 15:40:00<br>Tuits: 1\", \"Fecha: 15:43:00<br>Tuits: 1\", \"Fecha: 15:53:00<br>Tuits: 2\", \"Fecha: 15:57:00<br>Tuits: 1\", \"Fecha: 16:01:00<br>Tuits: 2\", \"Fecha: 16:04:00<br>Tuits: 1\", \"Fecha: 16:15:00<br>Tuits: 1\", \"Fecha: 16:19:00<br>Tuits: 1\", \"Fecha: 16:24:00<br>Tuits: 1\", \"Fecha: 16:31:00<br>Tuits: 3\", \"Fecha: 16:45:00<br>Tuits: 1\", \"Fecha: 16:59:00<br>Tuits: 1\", \"Fecha: 17:25:00<br>Tuits: 1\", \"Fecha: 18:00:00<br>Tuits: 1\", \"Fecha: 18:19:00<br>Tuits: 1\", \"Fecha: 18:33:00<br>Tuits: 1\", \"Fecha: 18:50:00<br>Tuits: 1\", \"Fecha: 19:03:00<br>Tuits: 1\", \"Fecha: 19:32:00<br>Tuits: 1\", \"Fecha: 19:44:00<br>Tuits: 1\", \"Fecha: 20:00:00<br>Tuits: 1\", \"Fecha: 20:16:00<br>Tuits: 1\", \"Fecha: 20:38:00<br>Tuits: 1\", \"Fecha: 20:42:00<br>Tuits: 1\", \"Fecha: 21:34:00<br>Tuits: 1\", \"Fecha: 21:44:00<br>Tuits: 1\", \"Fecha: 22:13:00<br>Tuits: 1\", \"Fecha: 22:25:00<br>Tuits: 1\", \"Fecha: 22:35:00<br>Tuits: 1\", \"Fecha: 22:51:00<br>Tuits: 1\", \"Fecha: 23:00:00<br>Tuits: 1\", \"Fecha: 23:08:00<br>Tuits: 1\", \"Fecha: 23:12:00<br>Tuits: 1\", \"Fecha: 23:24:00<br>Tuits: 1\", \"Fecha: 23:36:00<br>Tuits: 1\", \"Fecha: 23:44:00<br>Tuits: 1\"], \"type\": \"scatter\", \"x\": [\"00:10:00\", \"00:19:00\", \"00:47:00\", \"01:06:00\", \"01:12:00\", \"01:35:00\", \"01:46:00\", \"02:00:00\", \"02:01:00\", \"02:07:00\", \"02:10:00\", \"02:14:00\", \"02:24:00\", \"02:25:00\", \"02:51:00\", \"02:53:00\", \"03:07:00\", \"03:21:00\", \"03:22:00\", \"03:26:00\", \"03:33:00\", \"03:34:00\", \"04:08:00\", \"04:22:00\", \"04:33:00\", \"04:52:00\", \"05:12:00\", \"08:34:00\", \"09:53:00\", \"10:17:00\", \"10:49:00\", \"10:58:00\", \"11:00:00\", \"12:01:00\", \"12:24:00\", \"12:37:00\", \"12:38:00\", \"12:45:00\", \"12:51:00\", \"13:09:00\", \"13:10:00\", \"13:12:00\", \"13:16:00\", \"13:24:00\", \"13:39:00\", \"13:48:00\", \"14:04:00\", \"14:12:00\", \"14:14:00\", \"14:15:00\", \"14:22:00\", \"14:28:00\", \"14:47:00\", \"14:53:00\", \"15:01:00\", \"15:21:00\", \"15:24:00\", \"15:34:00\", \"15:39:00\", \"15:40:00\", \"15:43:00\", \"15:53:00\", \"15:57:00\", \"16:01:00\", \"16:04:00\", \"16:15:00\", \"16:19:00\", \"16:24:00\", \"16:31:00\", \"16:45:00\", \"16:59:00\", \"17:25:00\", \"18:00:00\", \"18:19:00\", \"18:33:00\", \"18:50:00\", \"19:03:00\", \"19:32:00\", \"19:44:00\", \"20:00:00\", \"20:16:00\", \"20:38:00\", \"20:42:00\", \"21:34:00\", \"21:44:00\", \"22:13:00\", \"22:25:00\", \"22:35:00\", \"22:51:00\", \"23:00:00\", \"23:08:00\", \"23:12:00\", \"23:24:00\", \"23:36:00\", \"23:44:00\"], \"y\": [1, 1, 1, 1, 1, 1, 1, 1, 1, 1, 1, 1, 1, 1, 1, 1, 1, 1, 1, 1, 1, 1, 1, 1, 1, 1, 1, 1, 1, 1, 1, 1, 1, 1, 1, 1, 1, 1, 1, 1, 1, 1, 1, 1, 1, 2, 1, 1, 1, 1, 1, 1, 1, 1, 1, 1, 1, 1, 1, 1, 1, 2, 1, 2, 1, 1, 1, 1, 3, 1, 1, 1, 1, 1, 1, 1, 1, 1, 1, 1, 1, 1, 1, 1, 1, 1, 1, 1, 1, 1, 1, 1, 1, 1, 1]}],\n",
       "                        {\"template\": {\"data\": {\"bar\": [{\"error_x\": {\"color\": \"#2a3f5f\"}, \"error_y\": {\"color\": \"#2a3f5f\"}, \"marker\": {\"line\": {\"color\": \"#E5ECF6\", \"width\": 0.5}}, \"type\": \"bar\"}], \"barpolar\": [{\"marker\": {\"line\": {\"color\": \"#E5ECF6\", \"width\": 0.5}}, \"type\": \"barpolar\"}], \"carpet\": [{\"aaxis\": {\"endlinecolor\": \"#2a3f5f\", \"gridcolor\": \"white\", \"linecolor\": \"white\", \"minorgridcolor\": \"white\", \"startlinecolor\": \"#2a3f5f\"}, \"baxis\": {\"endlinecolor\": \"#2a3f5f\", \"gridcolor\": \"white\", \"linecolor\": \"white\", \"minorgridcolor\": \"white\", \"startlinecolor\": \"#2a3f5f\"}, \"type\": \"carpet\"}], \"choropleth\": [{\"colorbar\": {\"outlinewidth\": 0, \"ticks\": \"\"}, \"type\": \"choropleth\"}], \"contour\": [{\"colorbar\": {\"outlinewidth\": 0, \"ticks\": \"\"}, \"colorscale\": [[0.0, \"#0d0887\"], [0.1111111111111111, \"#46039f\"], [0.2222222222222222, \"#7201a8\"], [0.3333333333333333, \"#9c179e\"], [0.4444444444444444, \"#bd3786\"], [0.5555555555555556, \"#d8576b\"], [0.6666666666666666, \"#ed7953\"], [0.7777777777777778, \"#fb9f3a\"], [0.8888888888888888, \"#fdca26\"], [1.0, \"#f0f921\"]], \"type\": \"contour\"}], \"contourcarpet\": [{\"colorbar\": {\"outlinewidth\": 0, \"ticks\": \"\"}, \"type\": \"contourcarpet\"}], \"heatmap\": [{\"colorbar\": {\"outlinewidth\": 0, \"ticks\": \"\"}, \"colorscale\": [[0.0, \"#0d0887\"], [0.1111111111111111, \"#46039f\"], [0.2222222222222222, \"#7201a8\"], [0.3333333333333333, \"#9c179e\"], [0.4444444444444444, \"#bd3786\"], [0.5555555555555556, \"#d8576b\"], [0.6666666666666666, \"#ed7953\"], [0.7777777777777778, \"#fb9f3a\"], [0.8888888888888888, \"#fdca26\"], [1.0, \"#f0f921\"]], \"type\": \"heatmap\"}], \"heatmapgl\": [{\"colorbar\": {\"outlinewidth\": 0, \"ticks\": \"\"}, \"colorscale\": [[0.0, \"#0d0887\"], [0.1111111111111111, \"#46039f\"], [0.2222222222222222, \"#7201a8\"], [0.3333333333333333, \"#9c179e\"], [0.4444444444444444, \"#bd3786\"], [0.5555555555555556, \"#d8576b\"], [0.6666666666666666, \"#ed7953\"], [0.7777777777777778, \"#fb9f3a\"], [0.8888888888888888, \"#fdca26\"], [1.0, \"#f0f921\"]], \"type\": \"heatmapgl\"}], \"histogram\": [{\"marker\": {\"colorbar\": {\"outlinewidth\": 0, \"ticks\": \"\"}}, \"type\": \"histogram\"}], \"histogram2d\": [{\"colorbar\": {\"outlinewidth\": 0, \"ticks\": \"\"}, \"colorscale\": [[0.0, \"#0d0887\"], [0.1111111111111111, \"#46039f\"], [0.2222222222222222, \"#7201a8\"], [0.3333333333333333, \"#9c179e\"], [0.4444444444444444, \"#bd3786\"], [0.5555555555555556, \"#d8576b\"], [0.6666666666666666, \"#ed7953\"], [0.7777777777777778, \"#fb9f3a\"], [0.8888888888888888, \"#fdca26\"], [1.0, \"#f0f921\"]], \"type\": \"histogram2d\"}], \"histogram2dcontour\": [{\"colorbar\": {\"outlinewidth\": 0, \"ticks\": \"\"}, \"colorscale\": [[0.0, \"#0d0887\"], [0.1111111111111111, \"#46039f\"], [0.2222222222222222, \"#7201a8\"], [0.3333333333333333, \"#9c179e\"], [0.4444444444444444, \"#bd3786\"], [0.5555555555555556, \"#d8576b\"], [0.6666666666666666, \"#ed7953\"], [0.7777777777777778, \"#fb9f3a\"], [0.8888888888888888, \"#fdca26\"], [1.0, \"#f0f921\"]], \"type\": \"histogram2dcontour\"}], \"mesh3d\": [{\"colorbar\": {\"outlinewidth\": 0, \"ticks\": \"\"}, \"type\": \"mesh3d\"}], \"parcoords\": [{\"line\": {\"colorbar\": {\"outlinewidth\": 0, \"ticks\": \"\"}}, \"type\": \"parcoords\"}], \"pie\": [{\"automargin\": true, \"type\": \"pie\"}], \"scatter\": [{\"marker\": {\"colorbar\": {\"outlinewidth\": 0, \"ticks\": \"\"}}, \"type\": \"scatter\"}], \"scatter3d\": [{\"line\": {\"colorbar\": {\"outlinewidth\": 0, \"ticks\": \"\"}}, \"marker\": {\"colorbar\": {\"outlinewidth\": 0, \"ticks\": \"\"}}, \"type\": \"scatter3d\"}], \"scattercarpet\": [{\"marker\": {\"colorbar\": {\"outlinewidth\": 0, \"ticks\": \"\"}}, \"type\": \"scattercarpet\"}], \"scattergeo\": [{\"marker\": {\"colorbar\": {\"outlinewidth\": 0, \"ticks\": \"\"}}, \"type\": \"scattergeo\"}], \"scattergl\": [{\"marker\": {\"colorbar\": {\"outlinewidth\": 0, \"ticks\": \"\"}}, \"type\": \"scattergl\"}], \"scattermapbox\": [{\"marker\": {\"colorbar\": {\"outlinewidth\": 0, \"ticks\": \"\"}}, \"type\": \"scattermapbox\"}], \"scatterpolar\": [{\"marker\": {\"colorbar\": {\"outlinewidth\": 0, \"ticks\": \"\"}}, \"type\": \"scatterpolar\"}], \"scatterpolargl\": [{\"marker\": {\"colorbar\": {\"outlinewidth\": 0, \"ticks\": \"\"}}, \"type\": \"scatterpolargl\"}], \"scatterternary\": [{\"marker\": {\"colorbar\": {\"outlinewidth\": 0, \"ticks\": \"\"}}, \"type\": \"scatterternary\"}], \"surface\": [{\"colorbar\": {\"outlinewidth\": 0, \"ticks\": \"\"}, \"colorscale\": [[0.0, \"#0d0887\"], [0.1111111111111111, \"#46039f\"], [0.2222222222222222, \"#7201a8\"], [0.3333333333333333, \"#9c179e\"], [0.4444444444444444, \"#bd3786\"], [0.5555555555555556, \"#d8576b\"], [0.6666666666666666, \"#ed7953\"], [0.7777777777777778, \"#fb9f3a\"], [0.8888888888888888, \"#fdca26\"], [1.0, \"#f0f921\"]], \"type\": \"surface\"}], \"table\": [{\"cells\": {\"fill\": {\"color\": \"#EBF0F8\"}, \"line\": {\"color\": \"white\"}}, \"header\": {\"fill\": {\"color\": \"#C8D4E3\"}, \"line\": {\"color\": \"white\"}}, \"type\": \"table\"}]}, \"layout\": {\"annotationdefaults\": {\"arrowcolor\": \"#2a3f5f\", \"arrowhead\": 0, \"arrowwidth\": 1}, \"coloraxis\": {\"colorbar\": {\"outlinewidth\": 0, \"ticks\": \"\"}}, \"colorscale\": {\"diverging\": [[0, \"#8e0152\"], [0.1, \"#c51b7d\"], [0.2, \"#de77ae\"], [0.3, \"#f1b6da\"], [0.4, \"#fde0ef\"], [0.5, \"#f7f7f7\"], [0.6, \"#e6f5d0\"], [0.7, \"#b8e186\"], [0.8, \"#7fbc41\"], [0.9, \"#4d9221\"], [1, \"#276419\"]], \"sequential\": [[0.0, \"#0d0887\"], [0.1111111111111111, \"#46039f\"], [0.2222222222222222, \"#7201a8\"], [0.3333333333333333, \"#9c179e\"], [0.4444444444444444, \"#bd3786\"], [0.5555555555555556, \"#d8576b\"], [0.6666666666666666, \"#ed7953\"], [0.7777777777777778, \"#fb9f3a\"], [0.8888888888888888, \"#fdca26\"], [1.0, \"#f0f921\"]], \"sequentialminus\": [[0.0, \"#0d0887\"], [0.1111111111111111, \"#46039f\"], [0.2222222222222222, \"#7201a8\"], [0.3333333333333333, \"#9c179e\"], [0.4444444444444444, \"#bd3786\"], [0.5555555555555556, \"#d8576b\"], [0.6666666666666666, \"#ed7953\"], [0.7777777777777778, \"#fb9f3a\"], [0.8888888888888888, \"#fdca26\"], [1.0, \"#f0f921\"]]}, \"colorway\": [\"#636efa\", \"#EF553B\", \"#00cc96\", \"#ab63fa\", \"#FFA15A\", \"#19d3f3\", \"#FF6692\", \"#B6E880\", \"#FF97FF\", \"#FECB52\"], \"font\": {\"color\": \"#2a3f5f\"}, \"geo\": {\"bgcolor\": \"white\", \"lakecolor\": \"white\", \"landcolor\": \"#E5ECF6\", \"showlakes\": true, \"showland\": true, \"subunitcolor\": \"white\"}, \"hoverlabel\": {\"align\": \"left\"}, \"hovermode\": \"closest\", \"mapbox\": {\"style\": \"light\"}, \"paper_bgcolor\": \"white\", \"plot_bgcolor\": \"#E5ECF6\", \"polar\": {\"angularaxis\": {\"gridcolor\": \"white\", \"linecolor\": \"white\", \"ticks\": \"\"}, \"bgcolor\": \"#E5ECF6\", \"radialaxis\": {\"gridcolor\": \"white\", \"linecolor\": \"white\", \"ticks\": \"\"}}, \"scene\": {\"xaxis\": {\"backgroundcolor\": \"#E5ECF6\", \"gridcolor\": \"white\", \"gridwidth\": 2, \"linecolor\": \"white\", \"showbackground\": true, \"ticks\": \"\", \"zerolinecolor\": \"white\"}, \"yaxis\": {\"backgroundcolor\": \"#E5ECF6\", \"gridcolor\": \"white\", \"gridwidth\": 2, \"linecolor\": \"white\", \"showbackground\": true, \"ticks\": \"\", \"zerolinecolor\": \"white\"}, \"zaxis\": {\"backgroundcolor\": \"#E5ECF6\", \"gridcolor\": \"white\", \"gridwidth\": 2, \"linecolor\": \"white\", \"showbackground\": true, \"ticks\": \"\", \"zerolinecolor\": \"white\"}}, \"shapedefaults\": {\"line\": {\"color\": \"#2a3f5f\"}}, \"ternary\": {\"aaxis\": {\"gridcolor\": \"white\", \"linecolor\": \"white\", \"ticks\": \"\"}, \"baxis\": {\"gridcolor\": \"white\", \"linecolor\": \"white\", \"ticks\": \"\"}, \"bgcolor\": \"#E5ECF6\", \"caxis\": {\"gridcolor\": \"white\", \"linecolor\": \"white\", \"ticks\": \"\"}}, \"title\": {\"x\": 0.05}, \"xaxis\": {\"automargin\": true, \"gridcolor\": \"white\", \"linecolor\": \"white\", \"ticks\": \"\", \"title\": {\"standoff\": 15}, \"zerolinecolor\": \"white\", \"zerolinewidth\": 2}, \"yaxis\": {\"automargin\": true, \"gridcolor\": \"white\", \"linecolor\": \"white\", \"ticks\": \"\", \"title\": {\"standoff\": 15}, \"zerolinecolor\": \"white\", \"zerolinewidth\": 2}}}, \"title\": {\"text\": \"N\\u00famero de tuits por hora\"}},\n",
       "                        {\"responsive\": true}\n",
       "                    ).then(function(){\n",
       "                            \n",
       "var gd = document.getElementById('967e3a12-6bc9-47d0-b8f2-f6fbc41bfa58');\n",
       "var x = new MutationObserver(function (mutations, observer) {{\n",
       "        var display = window.getComputedStyle(gd).display;\n",
       "        if (!display || display === 'none') {{\n",
       "            console.log([gd, 'removed!']);\n",
       "            Plotly.purge(gd);\n",
       "            observer.disconnect();\n",
       "        }}\n",
       "}});\n",
       "\n",
       "// Listen for the removal of the full notebook cells\n",
       "var notebookContainer = gd.closest('#notebook-container');\n",
       "if (notebookContainer) {{\n",
       "    x.observe(notebookContainer, {childList: true});\n",
       "}}\n",
       "\n",
       "// Listen for the clearing of the current output cell\n",
       "var outputEl = gd.closest('.output');\n",
       "if (outputEl) {{\n",
       "    x.observe(outputEl, {childList: true});\n",
       "}}\n",
       "\n",
       "                        })\n",
       "                };\n",
       "                });\n",
       "            </script>\n",
       "        </div>"
      ]
     },
     "metadata": {},
     "output_type": "display_data"
    }
   ],
   "source": [
    "trace = go.Scatter(x=temp.hora.values,\n",
    "                   y=temp.cnt.values,\n",
    "                   text=[f\"Fecha: {f}<br>Tuits: {c}\" for f,c in zip(temp.hora.values,temp.cnt.values)],\n",
    "                   hoverinfo='text',\n",
    "                   mode='lines+markers',\n",
    "                   name='Horas',\n",
    "                   line={'color': 'blue'})\n",
    "\n",
    "layout = go.Layout(title=\"Número de tuits por hora\")\n",
    "\n",
    "fig = go.Figure(data=[trace], layout=layout)\n",
    "iplot(fig)"
   ]
  }
 ],
 "metadata": {
  "kernelspec": {
   "display_name": "Python 3",
   "language": "python",
   "name": "python3"
  },
  "language_info": {
   "codemirror_mode": {
    "name": "ipython",
    "version": 3
   },
   "file_extension": ".py",
   "mimetype": "text/x-python",
   "name": "python",
   "nbconvert_exporter": "python",
   "pygments_lexer": "ipython3",
   "version": "3.8.8"
  }
 },
 "nbformat": 4,
 "nbformat_minor": 2
}
