{
 "cells": [
  {
   "cell_type": "code",
   "execution_count": 5,
   "metadata": {},
   "outputs": [],
   "source": [
    "import os\n",
    "from zipfile import ZipFile\n",
    "import fitz #Libreria para leer pdf"
   ]
  },
  {
   "cell_type": "code",
   "execution_count": 27,
   "metadata": {},
   "outputs": [],
   "source": [
    "direccion = 'C:/Users/Aleja/Documents/Universidad/NLP/Taller 2/python_books.zip'"
   ]
  },
  {
   "cell_type": "markdown",
   "metadata": {},
   "source": [
    "Descomprimimos el archivo ZIP"
   ]
  },
  {
   "cell_type": "code",
   "execution_count": null,
   "metadata": {},
   "outputs": [],
   "source": [
    "# Descomprimir el archivo ZIP\n",
    "with ZipFile(direccion) as archivo:\n",
    "    archivo.extractall(\"C:/Users/Aleja/Documents/Universidad/NLP/Taller 2/\")\n",
    "\n",
    "# Se elimina la carpeta adicional creada    \n",
    "import shutil\n",
    "shutil.rmtree('C:/Users/Aleja/Documents/Universidad/NLP/Taller 2/__MACOSX')\n",
    "     "
   ]
  },
  {
   "cell_type": "markdown",
   "metadata": {},
   "source": [
    "Leemos el archivo e identificamos la cantidad de páginas"
   ]
  },
  {
   "cell_type": "code",
   "execution_count": 13,
   "metadata": {},
   "outputs": [
    {
     "name": "stdout",
     "output_type": "stream",
     "text": [
      "Nombre archivo:  Python  Data Science Cookbook.pdf  Número de páginas:  1\n",
      "Nombre archivo:  Python - AWS.pdf  Número de páginas:  1\n",
      "Nombre archivo:  Python - Finance.pdf  Número de páginas:  1\n"
     ]
    }
   ],
   "source": [
    "\n",
    "for raiz, dirs, archivos in os.walk(\"C:/Users/Aleja/Documents/Universidad/NLP/Taller 2/python_books\"):\n",
    "        for a in archivos:\n",
    "            documento = fitz.open(\"C:/Users/Aleja/Documents/Universidad/NLP/Taller 2/python_books/\"+ a)\n",
    "            \n",
    "            print(\"Nombre archivo: \", a,  \" Número de páginas: \", documento.pageCount)"
   ]
  },
  {
   "cell_type": "markdown",
   "metadata": {},
   "source": [
    "Como en el anterior paso nos dio como resultado que los archivos solo tenían una página, utilizamos el siguiente código para obtener el número de palabras en cada Archivo\n"
   ]
  },
  {
   "cell_type": "code",
   "execution_count": 24,
   "metadata": {},
   "outputs": [
    {
     "name": "stdout",
     "output_type": "stream",
     "text": [
      "Nombre archivo:  Python  Data Science Cookbook.pdf  Número de páginas:  1 Número de Palabras:   535\n",
      "Nombre archivo:  Python - AWS.pdf  Número de páginas:  1 Número de Palabras:   254\n",
      "Nombre archivo:  Python - Finance.pdf  Número de páginas:  1 Número de Palabras:   226\n"
     ]
    }
   ],
   "source": [
    "for raiz, dirs, archivos in os.walk(\"C:/Users/Aleja/Documents/Universidad/NLP/Taller 2/python_books\"):\n",
    "        for a in archivos:\n",
    "            documento = fitz.open(\"C:/Users/Aleja/Documents/Universidad/NLP/Taller 2/python_books/\"+ a)\n",
    "            pagina = documento.loadPage(0)\n",
    "            texto = pagina.getText(\"text\")\n",
    "            data= texto.split()\n",
    "             \n",
    "            print(\"Nombre archivo: \", a,  \" Número de páginas: \", documento.pageCount, 'Número de Palabras:  ', len(data))"
   ]
  },
  {
   "cell_type": "markdown",
   "metadata": {},
   "source": [
    "Por lo tanto se identifica que el archivo con más palabras es Data Science Cookbook.pdf "
   ]
  }
 ],
 "metadata": {
  "kernelspec": {
   "display_name": "Python 3",
   "language": "python",
   "name": "python3"
  },
  "language_info": {
   "codemirror_mode": {
    "name": "ipython",
    "version": 3
   },
   "file_extension": ".py",
   "mimetype": "text/x-python",
   "name": "python",
   "nbconvert_exporter": "python",
   "pygments_lexer": "ipython3",
   "version": "3.8.5"
  }
 },
 "nbformat": 4,
 "nbformat_minor": 4
}
